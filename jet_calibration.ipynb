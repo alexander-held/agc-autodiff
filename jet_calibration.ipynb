{
 "cells": [
  {
   "cell_type": "code",
   "execution_count": 1,
   "id": "2130f252",
   "metadata": {},
   "outputs": [],
   "source": [
    "import awkward as ak\n",
    "import hist\n",
    "import jax\n",
    "import matplotlib.pyplot as plt\n",
    "import numpy as np\n",
    "import uproot\n",
    "import vector\n",
    "\n",
    "vector.register_awkward()\n",
    "ak.jax.register_and_check()"
   ]
  },
  {
   "cell_type": "code",
   "execution_count": 2,
   "id": "41467851",
   "metadata": {},
   "outputs": [
    {
     "ename": "TypeError",
     "evalue": "Jax tracers cannot be used with `ak.from_arraylib`",
     "output_type": "error",
     "traceback": [
      "\u001b[0;31m---------------------------------------------------------------------------\u001b[0m",
      "\u001b[0;31mTypeError\u001b[0m                                 Traceback (most recent call last)",
      "Cell \u001b[0;32mIn[2], line 31\u001b[0m\n\u001b[1;32m     28\u001b[0m np_vals \u001b[38;5;241m=\u001b[39m np\u001b[38;5;241m.\u001b[39mlinspace(\u001b[38;5;241m-\u001b[39m\u001b[38;5;241m5\u001b[39m, \u001b[38;5;241m5\u001b[39m, \u001b[38;5;241m20\u001b[39m) \n\u001b[1;32m     29\u001b[0m mass_means \u001b[38;5;241m=\u001b[39m [pipeline(jets, a) \u001b[38;5;28;01mfor\u001b[39;00m a \u001b[38;5;129;01min\u001b[39;00m np_vals]  \u001b[38;5;66;03m# this causes issues with jax backend\u001b[39;00m\n\u001b[0;32m---> 31\u001b[0m \u001b[43mjax\u001b[49m\u001b[38;5;241;43m.\u001b[39;49m\u001b[43mvalue_and_grad\u001b[49m\u001b[43m(\u001b[49m\u001b[43mpipeline\u001b[49m\u001b[43m,\u001b[49m\u001b[43m \u001b[49m\u001b[43margnums\u001b[49m\u001b[38;5;241;43m=\u001b[39;49m\u001b[38;5;241;43m1\u001b[39;49m\u001b[43m)\u001b[49m\u001b[43m(\u001b[49m\u001b[43mjets\u001b[49m\u001b[43m,\u001b[49m\u001b[43m \u001b[49m\u001b[43mnp_vals\u001b[49m\u001b[43m)\u001b[49m  \u001b[38;5;66;03m# this is what we would ultimately want\u001b[39;00m\n",
      "    \u001b[0;31m[... skipping hidden 8 frame]\u001b[0m\n",
      "Cell \u001b[0;32mIn[2], line 17\u001b[0m, in \u001b[0;36mpipeline\u001b[0;34m(jets, a)\u001b[0m\n\u001b[1;32m     15\u001b[0m \u001b[38;5;28;01mdef\u001b[39;00m \u001b[38;5;21mpipeline\u001b[39m(jets, a):\n\u001b[1;32m     16\u001b[0m \u001b[38;5;250m    \u001b[39m\u001b[38;5;124;03m\"\"\"analysis pipeline: calculate mean of dijet masses\"\"\"\u001b[39;00m\n\u001b[0;32m---> 17\u001b[0m     \u001b[38;5;28;01mreturn\u001b[39;00m ak\u001b[38;5;241m.\u001b[39msum(get_mass(\u001b[43mcorrect_jets\u001b[49m\u001b[43m(\u001b[49m\u001b[43mjets\u001b[49m\u001b[43m,\u001b[49m\u001b[43m \u001b[49m\u001b[43ma\u001b[49m\u001b[43m)\u001b[49m))\n",
      "Cell \u001b[0;32mIn[2], line 7\u001b[0m, in \u001b[0;36mcorrect_jets\u001b[0;34m(jets, alpha)\u001b[0m\n\u001b[1;32m      5\u001b[0m \u001b[38;5;250m\u001b[39m\u001b[38;5;124;03m\"\"\"perform jet energy calibration with nuisance parameter alpha\"\"\"\u001b[39;00m\n\u001b[1;32m      6\u001b[0m jets \u001b[38;5;241m=\u001b[39m ak\u001b[38;5;241m.\u001b[39mArray(jets)\n\u001b[0;32m----> 7\u001b[0m new_pt \u001b[38;5;241m=\u001b[39m \u001b[43mjets\u001b[49m\u001b[43m[\u001b[49m\u001b[38;5;124;43m\"\u001b[39;49m\u001b[38;5;124;43mpt\u001b[39;49m\u001b[38;5;124;43m\"\u001b[39;49m\u001b[43m]\u001b[49m\u001b[43m \u001b[49m\u001b[38;5;241;43m+\u001b[39;49m\u001b[43m \u001b[49m\u001b[38;5;241;43m25\u001b[39;49m\u001b[38;5;241;43m*\u001b[39;49m\u001b[43malpha\u001b[49m\n\u001b[1;32m      8\u001b[0m jets[\u001b[38;5;124m\"\u001b[39m\u001b[38;5;124mpt\u001b[39m\u001b[38;5;124m\"\u001b[39m] \u001b[38;5;241m=\u001b[39m new_pt\n\u001b[1;32m      9\u001b[0m \u001b[38;5;28;01mreturn\u001b[39;00m jets\n",
      "File \u001b[0;32m~/mambaforge/envs/agc-ad/lib/python3.11/site-packages/awkward/_operators.py:50\u001b[0m, in \u001b[0;36m_binary_method.<locals>.func\u001b[0;34m(self, other)\u001b[0m\n\u001b[1;32m     48\u001b[0m \u001b[38;5;28;01mif\u001b[39;00m _disables_array_ufunc(other):\n\u001b[1;32m     49\u001b[0m     \u001b[38;5;28;01mreturn\u001b[39;00m \u001b[38;5;28mNotImplemented\u001b[39m\n\u001b[0;32m---> 50\u001b[0m \u001b[38;5;28;01mreturn\u001b[39;00m \u001b[43mufunc\u001b[49m\u001b[43m(\u001b[49m\u001b[38;5;28;43mself\u001b[39;49m\u001b[43m,\u001b[49m\u001b[43m \u001b[49m\u001b[43mother\u001b[49m\u001b[43m)\u001b[49m\n",
      "File \u001b[0;32m~/mambaforge/envs/agc-ad/lib/python3.11/site-packages/awkward/highlevel.py:1349\u001b[0m, in \u001b[0;36mArray.__array_ufunc__\u001b[0;34m(self, ufunc, method, *inputs, **kwargs)\u001b[0m\n\u001b[1;32m   1347\u001b[0m name \u001b[38;5;241m=\u001b[39m \u001b[38;5;124mf\u001b[39m\u001b[38;5;124m\"\u001b[39m\u001b[38;5;132;01m{\u001b[39;00m\u001b[38;5;28mtype\u001b[39m(ufunc)\u001b[38;5;241m.\u001b[39m\u001b[38;5;18m__module__\u001b[39m\u001b[38;5;132;01m}\u001b[39;00m\u001b[38;5;124m.\u001b[39m\u001b[38;5;132;01m{\u001b[39;00mufunc\u001b[38;5;241m.\u001b[39m\u001b[38;5;18m__name__\u001b[39m\u001b[38;5;132;01m}\u001b[39;00m\u001b[38;5;124m.\u001b[39m\u001b[38;5;132;01m{\u001b[39;00mmethod\u001b[38;5;132;01m!s}\u001b[39;00m\u001b[38;5;124m\"\u001b[39m\n\u001b[1;32m   1348\u001b[0m \u001b[38;5;28;01mwith\u001b[39;00m ak\u001b[38;5;241m.\u001b[39m_errors\u001b[38;5;241m.\u001b[39mOperationErrorContext(name, inputs, kwargs):\n\u001b[0;32m-> 1349\u001b[0m     \u001b[38;5;28;01mreturn\u001b[39;00m \u001b[43mak\u001b[49m\u001b[38;5;241;43m.\u001b[39;49m\u001b[43m_connect\u001b[49m\u001b[38;5;241;43m.\u001b[39;49m\u001b[43mnumpy\u001b[49m\u001b[38;5;241;43m.\u001b[39;49m\u001b[43marray_ufunc\u001b[49m\u001b[43m(\u001b[49m\u001b[43mufunc\u001b[49m\u001b[43m,\u001b[49m\u001b[43m \u001b[49m\u001b[43mmethod\u001b[49m\u001b[43m,\u001b[49m\u001b[43m \u001b[49m\u001b[43minputs\u001b[49m\u001b[43m,\u001b[49m\u001b[43m \u001b[49m\u001b[43mkwargs\u001b[49m\u001b[43m)\u001b[49m\n",
      "File \u001b[0;32m~/mambaforge/envs/agc-ad/lib/python3.11/site-packages/awkward/_connect/numpy.py:326\u001b[0m, in \u001b[0;36marray_ufunc\u001b[0;34m(ufunc, method, inputs, kwargs)\u001b[0m\n\u001b[1;32m    323\u001b[0m behavior \u001b[38;5;241m=\u001b[39m behavior_of(\u001b[38;5;241m*\u001b[39minputs)\n\u001b[1;32m    324\u001b[0m backend \u001b[38;5;241m=\u001b[39m backend_of(\u001b[38;5;241m*\u001b[39minputs)\n\u001b[0;32m--> 326\u001b[0m inputs \u001b[38;5;241m=\u001b[39m \u001b[43m_array_ufunc_custom_cast\u001b[49m\u001b[43m(\u001b[49m\u001b[43minputs\u001b[49m\u001b[43m,\u001b[49m\u001b[43m \u001b[49m\u001b[43mbehavior\u001b[49m\u001b[43m,\u001b[49m\u001b[43m \u001b[49m\u001b[43mbackend\u001b[49m\u001b[43m)\u001b[49m\n\u001b[1;32m    328\u001b[0m \u001b[38;5;28;01mdef\u001b[39;00m \u001b[38;5;21maction\u001b[39m(inputs, \u001b[38;5;241m*\u001b[39m\u001b[38;5;241m*\u001b[39mignore):\n\u001b[1;32m    329\u001b[0m     contents \u001b[38;5;241m=\u001b[39m [x \u001b[38;5;28;01mfor\u001b[39;00m x \u001b[38;5;129;01min\u001b[39;00m inputs \u001b[38;5;28;01mif\u001b[39;00m \u001b[38;5;28misinstance\u001b[39m(x, ak\u001b[38;5;241m.\u001b[39mcontents\u001b[38;5;241m.\u001b[39mContent)]\n",
      "File \u001b[0;32m~/mambaforge/envs/agc-ad/lib/python3.11/site-packages/awkward/_connect/numpy.py:150\u001b[0m, in \u001b[0;36m_array_ufunc_custom_cast\u001b[0;34m(inputs, behavior, backend)\u001b[0m\n\u001b[1;32m    148\u001b[0m \u001b[38;5;28;01melif\u001b[39;00m \u001b[38;5;28misinstance\u001b[39m(x, (\u001b[38;5;28mstr\u001b[39m, \u001b[38;5;28mbytes\u001b[39m)):\n\u001b[1;32m    149\u001b[0m     x \u001b[38;5;241m=\u001b[39m ak\u001b[38;5;241m.\u001b[39mto_layout([x])\n\u001b[0;32m--> 150\u001b[0m maybe_layout \u001b[38;5;241m=\u001b[39m \u001b[43mak\u001b[49m\u001b[38;5;241;43m.\u001b[39;49m\u001b[43moperations\u001b[49m\u001b[38;5;241;43m.\u001b[39;49m\u001b[43mto_layout\u001b[49m\u001b[43m(\u001b[49m\u001b[43mx\u001b[49m\u001b[43m,\u001b[49m\u001b[43m \u001b[49m\u001b[43mallow_record\u001b[49m\u001b[38;5;241;43m=\u001b[39;49m\u001b[38;5;28;43;01mTrue\u001b[39;49;00m\u001b[43m,\u001b[49m\u001b[43m \u001b[49m\u001b[43mallow_other\u001b[49m\u001b[38;5;241;43m=\u001b[39;49m\u001b[38;5;28;43;01mTrue\u001b[39;49;00m\u001b[43m)\u001b[49m\n\u001b[1;32m    151\u001b[0m \u001b[38;5;28;01mif\u001b[39;00m \u001b[38;5;28misinstance\u001b[39m(maybe_layout, (ak\u001b[38;5;241m.\u001b[39mcontents\u001b[38;5;241m.\u001b[39mContent, ak\u001b[38;5;241m.\u001b[39mrecord\u001b[38;5;241m.\u001b[39mRecord)):\n\u001b[1;32m    152\u001b[0m     maybe_layout \u001b[38;5;241m=\u001b[39m maybe_layout\u001b[38;5;241m.\u001b[39mto_backend(backend)\n",
      "File \u001b[0;32m~/mambaforge/envs/agc-ad/lib/python3.11/site-packages/awkward/_dispatch.py:43\u001b[0m, in \u001b[0;36mhigh_level_function.<locals>.dispatch\u001b[0;34m(*args, **kwargs)\u001b[0m\n\u001b[1;32m     41\u001b[0m \u001b[38;5;66;03m# Failed to find a custom overload, so resume the original function\u001b[39;00m\n\u001b[1;32m     42\u001b[0m \u001b[38;5;28;01mtry\u001b[39;00m:\n\u001b[0;32m---> 43\u001b[0m     \u001b[38;5;28mnext\u001b[39m(gen_or_result)\n\u001b[1;32m     44\u001b[0m \u001b[38;5;28;01mexcept\u001b[39;00m \u001b[38;5;167;01mStopIteration\u001b[39;00m \u001b[38;5;28;01mas\u001b[39;00m err:\n\u001b[1;32m     45\u001b[0m     \u001b[38;5;28;01mreturn\u001b[39;00m err\u001b[38;5;241m.\u001b[39mvalue\n",
      "File \u001b[0;32m~/mambaforge/envs/agc-ad/lib/python3.11/site-packages/awkward/operations/ak_to_layout.py:48\u001b[0m, in \u001b[0;36mto_layout\u001b[0;34m(array, allow_record, allow_other, regulararray)\u001b[0m\n\u001b[1;32m     45\u001b[0m \u001b[38;5;28;01myield\u001b[39;00m (array,)\n\u001b[1;32m     47\u001b[0m \u001b[38;5;66;03m# Implementation\u001b[39;00m\n\u001b[0;32m---> 48\u001b[0m \u001b[38;5;28;01mreturn\u001b[39;00m \u001b[43m_impl\u001b[49m\u001b[43m(\u001b[49m\u001b[43marray\u001b[49m\u001b[43m,\u001b[49m\u001b[43m \u001b[49m\u001b[43mallow_record\u001b[49m\u001b[43m,\u001b[49m\u001b[43m \u001b[49m\u001b[43mallow_other\u001b[49m\u001b[43m,\u001b[49m\u001b[43m \u001b[49m\u001b[43mregulararray\u001b[49m\u001b[38;5;241;43m=\u001b[39;49m\u001b[43mregulararray\u001b[49m\u001b[43m)\u001b[49m\n",
      "File \u001b[0;32m~/mambaforge/envs/agc-ad/lib/python3.11/site-packages/awkward/operations/ak_to_layout.py:87\u001b[0m, in \u001b[0;36m_impl\u001b[0;34m(array, allow_record, allow_other, regulararray)\u001b[0m\n\u001b[1;32m     82\u001b[0m     \u001b[38;5;28;01mreturn\u001b[39;00m ak\u001b[38;5;241m.\u001b[39moperations\u001b[38;5;241m.\u001b[39mfrom_cupy(\n\u001b[1;32m     83\u001b[0m         array, regulararray\u001b[38;5;241m=\u001b[39mregulararray, highlevel\u001b[38;5;241m=\u001b[39m\u001b[38;5;28;01mFalse\u001b[39;00m\n\u001b[1;32m     84\u001b[0m     )\n\u001b[1;32m     86\u001b[0m \u001b[38;5;28;01melif\u001b[39;00m Jax\u001b[38;5;241m.\u001b[39mis_own_array(array):\n\u001b[0;32m---> 87\u001b[0m     \u001b[38;5;28;01mreturn\u001b[39;00m \u001b[43mak\u001b[49m\u001b[38;5;241;43m.\u001b[39;49m\u001b[43moperations\u001b[49m\u001b[38;5;241;43m.\u001b[39;49m\u001b[43mfrom_jax\u001b[49m\u001b[43m(\u001b[49m\u001b[43marray\u001b[49m\u001b[43m,\u001b[49m\u001b[43m \u001b[49m\u001b[43mregulararray\u001b[49m\u001b[38;5;241;43m=\u001b[39;49m\u001b[43mregulararray\u001b[49m\u001b[43m,\u001b[49m\u001b[43m \u001b[49m\u001b[43mhighlevel\u001b[49m\u001b[38;5;241;43m=\u001b[39;49m\u001b[38;5;28;43;01mFalse\u001b[39;49;00m\u001b[43m)\u001b[49m\n\u001b[1;32m     89\u001b[0m \u001b[38;5;28;01melif\u001b[39;00m TypeTracer\u001b[38;5;241m.\u001b[39mis_own_array(array):\n\u001b[1;32m     90\u001b[0m     backend \u001b[38;5;241m=\u001b[39m TypeTracerBackend\u001b[38;5;241m.\u001b[39minstance()\n",
      "File \u001b[0;32m~/mambaforge/envs/agc-ad/lib/python3.11/site-packages/awkward/_dispatch.py:20\u001b[0m, in \u001b[0;36mhigh_level_function.<locals>.dispatch\u001b[0;34m(*args, **kwargs)\u001b[0m\n\u001b[1;32m     16\u001b[0m \u001b[38;5;129m@wraps\u001b[39m(func)\n\u001b[1;32m     17\u001b[0m \u001b[38;5;28;01mdef\u001b[39;00m \u001b[38;5;21mdispatch\u001b[39m(\u001b[38;5;241m*\u001b[39margs, \u001b[38;5;241m*\u001b[39m\u001b[38;5;241m*\u001b[39mkwargs):\n\u001b[1;32m     18\u001b[0m     \u001b[38;5;66;03m# NOTE: this decorator assumes that the operation is exposed under `ak.`\u001b[39;00m\n\u001b[1;32m     19\u001b[0m     \u001b[38;5;28;01mwith\u001b[39;00m OperationErrorContext(\u001b[38;5;124mf\u001b[39m\u001b[38;5;124m\"\u001b[39m\u001b[38;5;124mak.\u001b[39m\u001b[38;5;132;01m{\u001b[39;00mfunc\u001b[38;5;241m.\u001b[39m\u001b[38;5;18m__qualname__\u001b[39m\u001b[38;5;132;01m}\u001b[39;00m\u001b[38;5;124m\"\u001b[39m, args, kwargs):\n\u001b[0;32m---> 20\u001b[0m         gen_or_result \u001b[38;5;241m=\u001b[39m \u001b[43mfunc\u001b[49m\u001b[43m(\u001b[49m\u001b[38;5;241;43m*\u001b[39;49m\u001b[43margs\u001b[49m\u001b[43m,\u001b[49m\u001b[43m \u001b[49m\u001b[38;5;241;43m*\u001b[39;49m\u001b[38;5;241;43m*\u001b[39;49m\u001b[43mkwargs\u001b[49m\u001b[43m)\u001b[49m\n\u001b[1;32m     21\u001b[0m         \u001b[38;5;28;01mif\u001b[39;00m isgenerator(gen_or_result):\n\u001b[1;32m     22\u001b[0m             array_likes \u001b[38;5;241m=\u001b[39m \u001b[38;5;28mnext\u001b[39m(gen_or_result)\n",
      "File \u001b[0;32m~/mambaforge/envs/agc-ad/lib/python3.11/site-packages/awkward/operations/ak_from_jax.py:35\u001b[0m, in \u001b[0;36mfrom_jax\u001b[0;34m(array, regulararray, highlevel, behavior)\u001b[0m\n\u001b[1;32m     10\u001b[0m \u001b[38;5;250m\u001b[39m\u001b[38;5;124;03m\"\"\"\u001b[39;00m\n\u001b[1;32m     11\u001b[0m \u001b[38;5;124;03mArgs:\u001b[39;00m\n\u001b[1;32m     12\u001b[0m \u001b[38;5;124;03m    array (jax.numpy.DeviceArray): The JAX DeviceArray to convert into an Awkward Array.\u001b[39;00m\n\u001b[0;32m   (...)\u001b[0m\n\u001b[1;32m     31\u001b[0m \u001b[38;5;124;03mSee also #ak.to_jax, #ak.from_numpy and #ak.from_jax.\u001b[39;00m\n\u001b[1;32m     32\u001b[0m \u001b[38;5;124;03m\"\"\"\u001b[39;00m\n\u001b[1;32m     33\u001b[0m jax\u001b[38;5;241m.\u001b[39massert_registered()\n\u001b[1;32m     34\u001b[0m \u001b[38;5;28;01mreturn\u001b[39;00m wrap_layout(\n\u001b[0;32m---> 35\u001b[0m     \u001b[43mfrom_arraylib\u001b[49m\u001b[43m(\u001b[49m\u001b[43marray\u001b[49m\u001b[43m,\u001b[49m\u001b[43m \u001b[49m\u001b[43mregulararray\u001b[49m\u001b[43m,\u001b[49m\u001b[43m \u001b[49m\u001b[38;5;28;43;01mFalse\u001b[39;49;00m\u001b[43m)\u001b[49m,\n\u001b[1;32m     36\u001b[0m     highlevel\u001b[38;5;241m=\u001b[39mhighlevel,\n\u001b[1;32m     37\u001b[0m     behavior\u001b[38;5;241m=\u001b[39mbehavior,\n\u001b[1;32m     38\u001b[0m )\n",
      "File \u001b[0;32m~/mambaforge/envs/agc-ad/lib/python3.11/site-packages/awkward/_layout.py:144\u001b[0m, in \u001b[0;36mfrom_arraylib\u001b[0;34m(array, regulararray, recordarray)\u001b[0m\n\u001b[1;32m    141\u001b[0m     mask \u001b[38;5;241m=\u001b[39m \u001b[38;5;28;01mNone\u001b[39;00m\n\u001b[1;32m    143\u001b[0m \u001b[38;5;28;01mif\u001b[39;00m \u001b[38;5;129;01mnot\u001b[39;00m recordarray \u001b[38;5;129;01mor\u001b[39;00m array\u001b[38;5;241m.\u001b[39mdtype\u001b[38;5;241m.\u001b[39mnames \u001b[38;5;129;01mis\u001b[39;00m \u001b[38;5;28;01mNone\u001b[39;00m:\n\u001b[0;32m--> 144\u001b[0m     layout \u001b[38;5;241m=\u001b[39m \u001b[43mrecurse\u001b[49m\u001b[43m(\u001b[49m\u001b[43marray\u001b[49m\u001b[43m,\u001b[49m\u001b[43m \u001b[49m\u001b[43mmask\u001b[49m\u001b[43m)\u001b[49m\n\u001b[1;32m    146\u001b[0m \u001b[38;5;28;01melse\u001b[39;00m:\n\u001b[1;32m    147\u001b[0m     contents \u001b[38;5;241m=\u001b[39m []\n",
      "File \u001b[0;32m~/mambaforge/envs/agc-ad/lib/python3.11/site-packages/awkward/_layout.py:56\u001b[0m, in \u001b[0;36mfrom_arraylib.<locals>.recurse\u001b[0;34m(array, mask)\u001b[0m\n\u001b[1;32m     54\u001b[0m \u001b[38;5;28mcls\u001b[39m \u001b[38;5;241m=\u001b[39m \u001b[38;5;28mtype\u001b[39m(array)\n\u001b[1;32m     55\u001b[0m \u001b[38;5;28;01mif\u001b[39;00m Jax\u001b[38;5;241m.\u001b[39mis_tracer_type(\u001b[38;5;28mcls\u001b[39m):\n\u001b[0;32m---> 56\u001b[0m     \u001b[38;5;28;01mraise\u001b[39;00m \u001b[38;5;167;01mTypeError\u001b[39;00m(\u001b[38;5;124m\"\u001b[39m\u001b[38;5;124mJax tracers cannot be used with `ak.from_arraylib`\u001b[39m\u001b[38;5;124m\"\u001b[39m)\n\u001b[1;32m     58\u001b[0m \u001b[38;5;28;01mif\u001b[39;00m regulararray \u001b[38;5;129;01mand\u001b[39;00m \u001b[38;5;28mlen\u001b[39m(array\u001b[38;5;241m.\u001b[39mshape) \u001b[38;5;241m>\u001b[39m \u001b[38;5;241m1\u001b[39m:\n\u001b[1;32m     59\u001b[0m     new_shape \u001b[38;5;241m=\u001b[39m (\u001b[38;5;241m-\u001b[39m\u001b[38;5;241m1\u001b[39m,) \u001b[38;5;241m+\u001b[39m array\u001b[38;5;241m.\u001b[39mshape[\u001b[38;5;241m2\u001b[39m:]\n",
      "\u001b[0;31mTypeError\u001b[0m: Jax tracers cannot be used with `ak.from_arraylib`",
      "\u001b[0m\nThis error occurred while calling\n\n    numpy.add.__call__(\n        <Array [[17.921875, 15.734375], ..., [...]] type='140 * var * float32'>\n        JVPTracer-instance\n    )"
     ]
    }
   ],
   "source": [
    "ttbar_file = \"https://github.com/scikit-hep/scikit-hep-testdata/\"\\\n",
    "    \"raw/main/src/skhep_testdata/data/nanoAOD_2015_CMS_Open_Data_ttbar.root\"\n",
    "\n",
    "def correct_jets(jets, alpha):\n",
    "    \"\"\"perform jet energy calibration with nuisance parameter alpha\"\"\"\n",
    "    jets = ak.Array(jets)\n",
    "    new_pt = jets[\"pt\"] + 25*alpha\n",
    "    jets[\"pt\"] = new_pt\n",
    "    return jets\n",
    "\n",
    "def get_mass(jets):\n",
    "    \"\"\"get dijet mass using system of first two jets\"\"\"\n",
    "    return (jets[:, 0] + jets[:, 1]).mass  # returning (jets[:, 0]).mass causes a different errror with jax\n",
    "\n",
    "def pipeline(jets, a):\n",
    "    \"\"\"analysis pipeline: calculate mean of dijet masses\"\"\"\n",
    "    return ak.sum(get_mass(correct_jets(jets, a)))\n",
    "\n",
    "\n",
    "with uproot.open(ttbar_file) as f:\n",
    "    arr = f[\"Events\"].arrays([\"Jet_pt\",\"Jet_eta\", \"Jet_phi\", \"Jet_mass\"])\n",
    "    evtfilter = ak.num(arr[\"Jet_pt\"]) >= 2\n",
    "    jets = ak.zip(dict(zip([\"pt\",\"eta\", \"phi\", \"mass\"], ak.unzip(arr))), with_name=\"Momentum4D\")[evtfilter]\n",
    "    jets = ak.to_backend(jets, \"jax\")\n",
    "\n",
    "    \n",
    "# scan the analysis pipeline for various nuisance parameter values\n",
    "np_vals = np.linspace(-5, 5, 20) \n",
    "mass_means = [pipeline(jets, a) for a in np_vals]  # this causes issues with jax backend\n",
    "\n",
    "jax.value_and_grad(pipeline, argnums=1)(jets, np_vals)  # this is what we would ultimately want"
   ]
  },
  {
   "cell_type": "code",
   "execution_count": null,
   "id": "baa3f0b7",
   "metadata": {},
   "outputs": [],
   "source": [
    "fig, ax = plt.subplots()\n",
    "ax.plot(np_vals, mass_means)\n",
    "ax.set_xlabel(\"NP value\")\n",
    "ax.set_ylabel(\"\")"
   ]
  },
  {
   "cell_type": "markdown",
   "id": "c235fb6f",
   "metadata": {},
   "source": [
    "Our input file is tiny. The following cell could be used instead to process 500 MB of data."
   ]
  },
  {
   "cell_type": "code",
   "execution_count": null,
   "id": "5bb5f8ad",
   "metadata": {},
   "outputs": [],
   "source": [
    "import os\n",
    "\n",
    "ttbar_file = \"https://xrootd-local.unl.edu:1094//store/user/AGC/nanoAOD/\"\\\n",
    "    \"TT_TuneCUETP8M1_13TeV-powheg-pythia8/cmsopendata2015_ttbar_19981_PU25nsData2015v1_76X_\"\\\n",
    "    \"mcRun2_asymptotic_v12_ext4-v1_80000_0007.root\"\n",
    "\n",
    "# download for subsequent use\n",
    "local_file_name = \"ttbar.root\"\n",
    "if not os.path.exists(local_file_name):\n",
    "    urllib.request.urlretrieve(ttbar_file, filename=local_file_name)"
   ]
  }
 ],
 "metadata": {
  "kernelspec": {
   "display_name": "Python 3 (ipykernel)",
   "language": "python",
   "name": "python3"
  },
  "language_info": {
   "codemirror_mode": {
    "name": "ipython",
    "version": 3
   },
   "file_extension": ".py",
   "mimetype": "text/x-python",
   "name": "python",
   "nbconvert_exporter": "python",
   "pygments_lexer": "ipython3",
   "version": "3.11.4"
  }
 },
 "nbformat": 4,
 "nbformat_minor": 5
}
